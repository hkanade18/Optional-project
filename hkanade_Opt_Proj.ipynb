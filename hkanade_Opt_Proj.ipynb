{
 "cells": [
  {
   "cell_type": "markdown",
   "metadata": {
    "id": "vEApIHAKOC5D"
   },
   "source": [
    "# Artificial intelligence\n",
    "\n",
    "# Optional Project-Code\n",
    "\n",
    "## Name- Hrishikesh Dinkar Kanade\n"
   ]
  },
  {
   "cell_type": "markdown",
   "metadata": {
    "id": "NQKGxp8pOC5L"
   },
   "source": [
    "## 1. Data preparation"
   ]
  },
  {
   "cell_type": "markdown",
   "metadata": {
    "id": "o2aSd9TgOC5L"
   },
   "source": [
    "### 1.1. Load data\n"
   ]
  },
  {
   "cell_type": "code",
   "execution_count": 1,
   "metadata": {
    "colab": {
     "base_uri": "https://localhost:8080/"
    },
    "id": "Orn9rFHxOC5L",
    "outputId": "c5c125fa-a0c8-4f06-bd24-8fbf0582ca05"
   },
   "outputs": [
    {
     "name": "stdout",
     "output_type": "stream",
     "text": [
      "Downloading data from https://www.cs.toronto.edu/~kriz/cifar-10-python.tar.gz\n",
      "170500096/170498071 [==============================] - 13s 0us/step\n",
      "170508288/170498071 [==============================] - 13s 0us/step\n",
      "shape of x_train: (50000, 32, 32, 3)\n",
      "shape of y_train: (50000, 1)\n",
      "shape of x_test: (10000, 32, 32, 3)\n",
      "shape of y_test: (10000, 1)\n",
      "number of classes: 10\n"
     ]
    }
   ],
   "source": [
    "# Load Cifar-10 Data\n",
    "# This is just an example, you may load dataset from other packages.\n",
    "import keras\n",
    "import tensorflow as tf\n",
    "import numpy as np\n",
    "import matplotlib.pyplot as plt\n",
    "from keras import models\n",
    "from keras import layers\n",
    "from tensorflow.keras import optimizers\n",
    "from keras.layers import BatchNormalization, Activation\n",
    "tf.config.run_functions_eagerly(True)\n",
    "%matplotlib inline\n",
    "### If you can not load keras dataset, un-comment these two lines.\n",
    "#import ssl\n",
    "#ssl._create_default_https_context = ssl._create_unverified_context\n",
    "\n",
    "(x_train, y_train), (x_test, y_test) = tf.keras.datasets.cifar10.load_data()\n",
    "\n",
    "print('shape of x_train: ' + str(x_train.shape))\n",
    "print('shape of y_train: ' + str(y_train.shape))\n",
    "print('shape of x_test: ' + str(x_test.shape))\n",
    "print('shape of y_test: ' + str(y_test.shape))\n",
    "print('number of classes: ' + str(np.max(y_train) - np.min(y_train) + 1))"
   ]
  },
  {
   "cell_type": "markdown",
   "metadata": {
    "id": "_Ik0wUQIOC5N"
   },
   "source": [
    "### 1.2. One-hot encode the labels "
   ]
  },
  {
   "cell_type": "code",
   "execution_count": 2,
   "metadata": {
    "colab": {
     "base_uri": "https://localhost:8080/"
    },
    "id": "0PDdIkzvOC5O",
    "outputId": "29583946-abe9-47c5-8e22-71e07504c7ae"
   },
   "outputs": [
    {
     "name": "stdout",
     "output_type": "stream",
     "text": [
      "Shape of y_train_vec: (50000, 10)\n",
      "Shape of y_test_vec: (10000, 10)\n",
      "[6]\n",
      "[0. 0. 0. 0. 0. 0. 1. 0. 0. 0.]\n"
     ]
    }
   ],
   "source": [
    "def to_one_hot(y, num_class=10):\n",
    "    one_hot=np.zeros((len(y),num_class))\n",
    "    for iter,category in enumerate(y):\n",
    "      one_hot[iter,category]= 1\n",
    "    return one_hot\n",
    "\n",
    "y_train_vec = to_one_hot(y_train)\n",
    "y_test_vec = to_one_hot(y_test)\n",
    "\n",
    "print('Shape of y_train_vec: ' + str(y_train_vec.shape))\n",
    "print('Shape of y_test_vec: ' + str(y_test_vec.shape))\n",
    "\n",
    "print(y_train[0])\n",
    "print(y_train_vec[0])"
   ]
  },
  {
   "cell_type": "markdown",
   "metadata": {
    "id": "L3xAiIPuOC5P"
   },
   "source": [
    "### 1.3. Randomly partition the training set to training and validation sets \n",
    "\n",
    "Randomly partition the 50K training samples to 2 sets: \n",
    "* a training set containing 40K samples: x_tr, y_tr\n",
    "* a validation set containing 10K samples: x_val, y_val\n"
   ]
  },
  {
   "cell_type": "code",
   "execution_count": 3,
   "metadata": {
    "colab": {
     "base_uri": "https://localhost:8080/"
    },
    "id": "runNUgfSOC5P",
    "outputId": "74804ffe-4f51-4fb2-8ec1-babda0a8818d"
   },
   "outputs": [
    {
     "name": "stdout",
     "output_type": "stream",
     "text": [
      "Shape of x_tr: (40000, 32, 32, 3)\n",
      "Shape of y_tr: (40000, 10)\n",
      "Shape of x_val: (10000, 32, 32, 3)\n",
      "Shape of y_val: (10000, 10)\n"
     ]
    }
   ],
   "source": [
    "random_indices= np.random.permutation(50000)\n",
    "train_indices=random_indices[0:40000]\n",
    "valid_indices= random_indices[40000:50000]\n",
    "\n",
    "x_val=x_train[valid_indices,:,:,:]\n",
    "y_val=y_train_vec[valid_indices,:]\n",
    "x_tr=x_train[train_indices,:,:,:]\n",
    "y_tr=y_train_vec[train_indices,:]\n",
    "\n",
    "x_tr=tf.cast(x_tr,tf.float32)\n",
    "y_tr=tf.cast(y_tr,tf.float32)\n",
    "y_val=tf.cast(y_val,tf.float32)\n",
    "x_val=tf.cast(x_val,tf.float32)\n",
    "x_train=tf.cast(x_train,tf.float32)\n",
    "y_train_vec=tf.cast(y_train_vec,tf.float32)\n",
    "x_test=tf.cast(x_test,tf.float32)\n",
    "y_test_vec=tf.cast(y_test_vec,tf.float32)\n",
    "print('Shape of x_tr: ' + str(x_tr.shape))\n",
    "print('Shape of y_tr: ' + str(y_tr.shape))\n",
    "print('Shape of x_val: ' + str(x_val.shape))\n",
    "print('Shape of y_val: ' + str(y_val.shape))"
   ]
  },
  {
   "cell_type": "markdown",
   "metadata": {
    "id": "AfXtGWorOC5P"
   },
   "source": [
    "## 2. Baseline CNN without Batch normalization\n",
    "\n",
    "\n",
    "\n",
    "\n"
   ]
  },
  {
   "cell_type": "code",
   "execution_count": 4,
   "metadata": {
    "id": "LAyoudTzOC5R"
   },
   "outputs": [],
   "source": [
    "# Build the model\n",
    "model=models.Sequential()\n",
    "model.add(layers.Conv2D(32,(3,3),activation='relu',input_shape=(32,32,3)))\n",
    "model.add(layers.MaxPooling2D((2,2)))\n",
    "model.add(layers.Conv2D(64,(4,4),activation='relu'))\n",
    "model.add(layers.MaxPooling2D((2,2)))\n",
    "model.add(layers.Flatten())\n",
    "model.add(layers.Dense(256,activation='relu'))\n",
    "model.add(layers.Dense(10,activation='softmax'))"
   ]
  },
  {
   "cell_type": "code",
   "execution_count": null,
   "metadata": {
    "colab": {
     "base_uri": "https://localhost:8080/"
    },
    "id": "5TBNw-Ko6vJ0",
    "outputId": "3d41893b-7204-46f0-de4c-10d7d0a19485"
   },
   "outputs": [
    {
     "name": "stdout",
     "output_type": "stream",
     "text": [
      "Model: \"sequential\"\n",
      "_________________________________________________________________\n",
      " Layer (type)                Output Shape              Param #   \n",
      "=================================================================\n",
      " conv2d (Conv2D)             (None, 30, 30, 32)        896       \n",
      "                                                                 \n",
      " max_pooling2d (MaxPooling2D  (None, 15, 15, 32)       0         \n",
      " )                                                               \n",
      "                                                                 \n",
      " conv2d_1 (Conv2D)           (None, 12, 12, 64)        32832     \n",
      "                                                                 \n",
      " max_pooling2d_1 (MaxPooling  (None, 6, 6, 64)         0         \n",
      " 2D)                                                             \n",
      "                                                                 \n",
      " flatten (Flatten)           (None, 2304)              0         \n",
      "                                                                 \n",
      " dense (Dense)               (None, 256)               590080    \n",
      "                                                                 \n",
      " dense_1 (Dense)             (None, 10)                2570      \n",
      "                                                                 \n",
      "=================================================================\n",
      "Total params: 626,378\n",
      "Trainable params: 626,378\n",
      "Non-trainable params: 0\n",
      "_________________________________________________________________\n"
     ]
    }
   ],
   "source": [
    "model.summary()"
   ]
  },
  {
   "cell_type": "code",
   "execution_count": 5,
   "metadata": {
    "id": "nSrHx7VWOC5R"
   },
   "outputs": [],
   "source": [
    "# Define model optimizer and loss function\n",
    "model.compile(optimizers.RMSprop(learning_rate=0.001, momentum=0.5),loss='categorical_crossentropy',metrics=['accuracy'])"
   ]
  },
  {
   "cell_type": "code",
   "execution_count": 7,
   "metadata": {
    "colab": {
     "base_uri": "https://localhost:8080/"
    },
    "id": "gmZVM-mCOC5R",
    "outputId": "93101992-6b97-4dd7-82f3-17dfa50ad7d9"
   },
   "outputs": [
    {
     "name": "stdout",
     "output_type": "stream",
     "text": [
      "Epoch 1/20\n"
     ]
    },
    {
     "name": "stderr",
     "output_type": "stream",
     "text": [
      "/usr/local/lib/python3.7/dist-packages/tensorflow/python/data/ops/structured_function.py:265: UserWarning: Even though the `tf.config.experimental_run_functions_eagerly` option is set, this option does not apply to tf.data functions. To force eager execution of tf.data functions, please use `tf.data.experimental.enable_debug_mode()`.\n",
      "  \"Even though the `tf.config.experimental_run_functions_eagerly` \"\n"
     ]
    },
    {
     "name": "stdout",
     "output_type": "stream",
     "text": [
      "157/157 [==============================] - 5s 22ms/step - loss: 6.9454 - accuracy: 0.1680 - val_loss: 2.2037 - val_accuracy: 0.2370\n",
      "Epoch 2/20\n",
      "157/157 [==============================] - 3s 21ms/step - loss: 1.8302 - accuracy: 0.3498 - val_loss: 1.5840 - val_accuracy: 0.4295\n",
      "Epoch 3/20\n",
      "157/157 [==============================] - 3s 21ms/step - loss: 1.5102 - accuracy: 0.4679 - val_loss: 1.4182 - val_accuracy: 0.5123\n",
      "Epoch 4/20\n",
      "157/157 [==============================] - 3s 20ms/step - loss: 1.2327 - accuracy: 0.5756 - val_loss: 1.2485 - val_accuracy: 0.5786\n",
      "Epoch 5/20\n",
      "157/157 [==============================] - 3s 20ms/step - loss: 1.0406 - accuracy: 0.6428 - val_loss: 1.5125 - val_accuracy: 0.5377\n",
      "Epoch 6/20\n",
      "157/157 [==============================] - 3s 20ms/step - loss: 0.8601 - accuracy: 0.7057 - val_loss: 1.2964 - val_accuracy: 0.5812\n",
      "Epoch 7/20\n",
      "157/157 [==============================] - 3s 20ms/step - loss: 0.7172 - accuracy: 0.7558 - val_loss: 1.3437 - val_accuracy: 0.5930\n",
      "Epoch 8/20\n",
      "157/157 [==============================] - 3s 20ms/step - loss: 0.5833 - accuracy: 0.8013 - val_loss: 1.5726 - val_accuracy: 0.5850\n",
      "Epoch 9/20\n",
      "157/157 [==============================] - 3s 20ms/step - loss: 0.4729 - accuracy: 0.8394 - val_loss: 1.6838 - val_accuracy: 0.6067\n",
      "Epoch 10/20\n",
      "157/157 [==============================] - 3s 20ms/step - loss: 0.3895 - accuracy: 0.8695 - val_loss: 1.8134 - val_accuracy: 0.6228\n",
      "Epoch 11/20\n",
      "157/157 [==============================] - 3s 20ms/step - loss: 0.3249 - accuracy: 0.8912 - val_loss: 1.8833 - val_accuracy: 0.5987\n",
      "Epoch 12/20\n",
      "157/157 [==============================] - 3s 20ms/step - loss: 0.3043 - accuracy: 0.9031 - val_loss: 2.3203 - val_accuracy: 0.6012\n",
      "Epoch 13/20\n",
      "157/157 [==============================] - 3s 21ms/step - loss: 0.2595 - accuracy: 0.9173 - val_loss: 2.4729 - val_accuracy: 0.6027\n",
      "Epoch 14/20\n",
      "157/157 [==============================] - 3s 20ms/step - loss: 0.2446 - accuracy: 0.9231 - val_loss: 2.4783 - val_accuracy: 0.6190\n",
      "Epoch 15/20\n",
      "157/157 [==============================] - 3s 20ms/step - loss: 0.2407 - accuracy: 0.9280 - val_loss: 3.0953 - val_accuracy: 0.6001\n",
      "Epoch 16/20\n",
      "157/157 [==============================] - 3s 20ms/step - loss: 0.2169 - accuracy: 0.9366 - val_loss: 3.2182 - val_accuracy: 0.5895\n",
      "Epoch 17/20\n",
      "157/157 [==============================] - 3s 20ms/step - loss: 0.2299 - accuracy: 0.9344 - val_loss: 3.1412 - val_accuracy: 0.6090\n",
      "Epoch 18/20\n",
      "157/157 [==============================] - 3s 21ms/step - loss: 0.2031 - accuracy: 0.9416 - val_loss: 3.2478 - val_accuracy: 0.6008\n",
      "Epoch 19/20\n",
      "157/157 [==============================] - 3s 20ms/step - loss: 0.1977 - accuracy: 0.9448 - val_loss: 3.5509 - val_accuracy: 0.6128\n",
      "Epoch 20/20\n",
      "157/157 [==============================] - 3s 20ms/step - loss: 0.1916 - accuracy: 0.9483 - val_loss: 3.5650 - val_accuracy: 0.6082\n"
     ]
    }
   ],
   "source": [
    "# Train the model and store model parameters/loss values\n",
    "history=model.fit(x_tr,y_tr,batch_size=256,epochs=20,validation_data=(x_val,y_val))"
   ]
  },
  {
   "cell_type": "markdown",
   "metadata": {
    "id": "Bx53cXkpOC5S"
   },
   "source": [
    "## 3. Plot of training and validation loss curve versus epochs."
   ]
  },
  {
   "cell_type": "code",
   "execution_count": 8,
   "metadata": {
    "colab": {
     "base_uri": "https://localhost:8080/",
     "height": 279
    },
    "id": "8N0FfhHdOC5S",
    "outputId": "94ca1d4b-cf7d-470a-ca83-2181fb030e91"
   },
   "outputs": [
    {
     "data": {
      "image/png": "[encoded data removed]",
      "text/plain": [
       "<Figure size 432x288 with 1 Axes>"
      ]
     },
     "metadata": {
      "needs_background": "light"
     },
     "output_type": "display_data"
    }
   ],
   "source": [
    "# Plot the loss curve\n",
    "epochs=range(20)\n",
    "train_loss= history.history['loss']\n",
    "valid_loss=history.history['val_loss']\n",
    "plt.plot(epochs, train_loss,'bo', label='Training loss')\n",
    "plt.plot(epochs, valid_loss,'r', label='Validation loss')\n",
    "plt.xlabel('Epochs')\n",
    "plt.ylabel('Loss')\n",
    "plt.legend()\n",
    "plt.show()"
   ]
  },
  {
   "cell_type": "markdown",
   "metadata": {
    "id": "yRqvpOPZOC5T"
   },
   "source": [
    "## 4. Evaluate the model on the test set"
   ]
  },
  {
   "cell_type": "code",
   "execution_count": 9,
   "metadata": {
    "colab": {
     "base_uri": "https://localhost:8080/"
    },
    "id": "jfZt9ufGOC5T",
    "outputId": "59c03333-9aad-427d-c90c-ef508bc252f1"
   },
   "outputs": [
    {
     "name": "stdout",
     "output_type": "stream",
     "text": [
      "\r",
      "  1/313 [..............................] - ETA: 18s - loss: 2.7957 - accuracy: 0.6562"
     ]
    },
    {
     "name": "stderr",
     "output_type": "stream",
     "text": [
      "/usr/local/lib/python3.7/dist-packages/tensorflow/python/data/ops/structured_function.py:265: UserWarning: Even though the `tf.config.experimental_run_functions_eagerly` option is set, this option does not apply to tf.data functions. To force eager execution of tf.data functions, please use `tf.data.experimental.enable_debug_mode()`.\n",
      "  \"Even though the `tf.config.experimental_run_functions_eagerly` \"\n"
     ]
    },
    {
     "name": "stdout",
     "output_type": "stream",
     "text": [
      "313/313 [==============================] - 3s 10ms/step - loss: 3.6225 - accuracy: 0.6023\n",
      "Test loss=3.622507333755493\n",
      "Test accuracy=0.6022999882698059\n"
     ]
    }
   ],
   "source": [
    "# Evaluate your model performance (testing accuracy) on testing data.\n",
    "loss_and_acc=model.evaluate(x_test,y_test_vec)\n",
    "print(\"Test loss=\"+str(loss_and_acc[0]))\n",
    "print(\"Test accuracy=\"+str(loss_and_acc[1]))"
   ]
  },
  {
   "cell_type": "markdown",
   "metadata": {
    "id": "sa_b2yVwOC5U"
   },
   "source": [
    "## 5. Building model with batch normalization\n"
   ]
  },
  {
   "cell_type": "markdown",
   "metadata": {
    "id": "qzvRIXOoVuJZ"
   },
   "source": [
    "\n",
    "## Model 1 with batch normalization added"
   ]
  },
  {
   "cell_type": "code",
   "execution_count": 10,
   "metadata": {
    "id": "lawqB97UOC5U"
   },
   "outputs": [],
   "source": [
    "# Build the model\n",
    "model1=models.Sequential()\n",
    "model1.add(layers.Conv2D(32,(3,3),input_shape=x_tr.shape[1:]))\n",
    "model1.add(BatchNormalization())\n",
    "model1.add(Activation('relu'))\n",
    "model1.add(layers.MaxPooling2D((2,2)))\n",
    "model1.add(layers.Conv2D(64,(4,4)))\n",
    "model1.add(BatchNormalization())\n",
    "model1.add(Activation('relu'))\n",
    "model1.add(layers.MaxPooling2D((2,2)))\n",
    "model1.add(layers.Flatten())\n",
    "model1.add(layers.Dense(256))\n",
    "model1.add(BatchNormalization())\n",
    "model1.add(Activation('relu'))\n",
    "model1.add(layers.Dense(10))\n",
    "model1.add(BatchNormalization())\n",
    "model1.add(Activation('softmax'))"
   ]
  },
  {
   "cell_type": "code",
   "execution_count": 11,
   "metadata": {
    "colab": {
     "base_uri": "https://localhost:8080/"
    },
    "id": "HrC314RCWOr9",
    "outputId": "359445d7-9612-4cfb-c8b5-1ab2a45029de"
   },
   "outputs": [
    {
     "name": "stdout",
     "output_type": "stream",
     "text": [
      "Model: \"sequential_1\"\n",
      "_________________________________________________________________\n",
      " Layer (type)                Output Shape              Param #   \n",
      "=================================================================\n",
      " conv2d_2 (Conv2D)           (None, 30, 30, 32)        896       \n",
      "                                                                 \n",
      " batch_normalization (BatchN  (None, 30, 30, 32)       128       \n",
      " ormalization)                                                   \n",
      "                                                                 \n",
      " activation (Activation)     (None, 30, 30, 32)        0         \n",
      "                                                                 \n",
      " max_pooling2d_2 (MaxPooling  (None, 15, 15, 32)       0         \n",
      " 2D)                                                             \n",
      "                                                                 \n",
      " conv2d_3 (Conv2D)           (None, 12, 12, 64)        32832     \n",
      "                                                                 \n",
      " batch_normalization_1 (Batc  (None, 12, 12, 64)       256       \n",
      " hNormalization)                                                 \n",
      "                                                                 \n",
      " activation_1 (Activation)   (None, 12, 12, 64)        0         \n",
      "                                                                 \n",
      " max_pooling2d_3 (MaxPooling  (None, 6, 6, 64)         0         \n",
      " 2D)                                                             \n",
      "                                                                 \n",
      " flatten_1 (Flatten)         (None, 2304)              0         \n",
      "                                                                 \n",
      " dense_2 (Dense)             (None, 256)               590080    \n",
      "                                                                 \n",
      " batch_normalization_2 (Batc  (None, 256)              1024      \n",
      " hNormalization)                                                 \n",
      "                                                                 \n",
      " activation_2 (Activation)   (None, 256)               0         \n",
      "                                                                 \n",
      " dense_3 (Dense)             (None, 10)                2570      \n",
      "                                                                 \n",
      " batch_normalization_3 (Batc  (None, 10)               40        \n",
      " hNormalization)                                                 \n",
      "                                                                 \n",
      " activation_3 (Activation)   (None, 10)                0         \n",
      "                                                                 \n",
      "=================================================================\n",
      "Total params: 627,826\n",
      "Trainable params: 627,102\n",
      "Non-trainable params: 724\n",
      "_________________________________________________________________\n"
     ]
    }
   ],
   "source": [
    "model1.summary()"
   ]
  },
  {
   "cell_type": "code",
   "execution_count": 12,
   "metadata": {
    "id": "S2d4FX_SWZCl"
   },
   "outputs": [],
   "source": [
    "# Define model optimizer and loss function\n",
    "model1.compile(optimizers.RMSprop(learning_rate=0.001, momentum=0.5),loss='categorical_crossentropy',metrics=['accuracy'])"
   ]
  },
  {
   "cell_type": "code",
   "execution_count": 13,
   "metadata": {
    "colab": {
     "base_uri": "https://localhost:8080/"
    },
    "id": "f4Gr-_lqWdDz",
    "outputId": "a463e91b-8447-4d39-bbc2-53d7ccc7b72f"
   },
   "outputs": [
    {
     "name": "stdout",
     "output_type": "stream",
     "text": [
      "Epoch 1/20\n"
     ]
    },
    {
     "name": "stderr",
     "output_type": "stream",
     "text": [
      "/usr/local/lib/python3.7/dist-packages/tensorflow/python/data/ops/structured_function.py:265: UserWarning: Even though the `tf.config.experimental_run_functions_eagerly` option is set, this option does not apply to tf.data functions. To force eager execution of tf.data functions, please use `tf.data.experimental.enable_debug_mode()`.\n",
      "  \"Even though the `tf.config.experimental_run_functions_eagerly` \"\n"
     ]
    },
    {
     "name": "stdout",
     "output_type": "stream",
     "text": [
      "157/157 [==============================] - 6s 35ms/step - loss: 1.2666 - accuracy: 0.5878 - val_loss: 1.5508 - val_accuracy: 0.5044\n",
      "Epoch 2/20\n",
      "157/157 [==============================] - 5s 34ms/step - loss: 0.9122 - accuracy: 0.7136 - val_loss: 1.2820 - val_accuracy: 0.5617\n",
      "Epoch 3/20\n",
      "157/157 [==============================] - 5s 34ms/step - loss: 0.7220 - accuracy: 0.7783 - val_loss: 1.8982 - val_accuracy: 0.3909\n",
      "Epoch 4/20\n",
      "157/157 [==============================] - 5s 34ms/step - loss: 0.5642 - accuracy: 0.8333 - val_loss: 1.1668 - val_accuracy: 0.6221\n",
      "Epoch 5/20\n",
      "157/157 [==============================] - 6s 36ms/step - loss: 0.4307 - accuracy: 0.8790 - val_loss: 1.2251 - val_accuracy: 0.6069\n",
      "Epoch 6/20\n",
      "157/157 [==============================] - 5s 35ms/step - loss: 0.3189 - accuracy: 0.9198 - val_loss: 1.4824 - val_accuracy: 0.5671\n",
      "Epoch 7/20\n",
      "157/157 [==============================] - 6s 35ms/step - loss: 0.2323 - accuracy: 0.9463 - val_loss: 1.4126 - val_accuracy: 0.5881\n",
      "Epoch 8/20\n",
      "157/157 [==============================] - 6s 35ms/step - loss: 0.1656 - accuracy: 0.9670 - val_loss: 1.2264 - val_accuracy: 0.6352\n",
      "Epoch 9/20\n",
      "157/157 [==============================] - 5s 34ms/step - loss: 0.1234 - accuracy: 0.9768 - val_loss: 1.4035 - val_accuracy: 0.6060\n",
      "Epoch 10/20\n",
      "157/157 [==============================] - 5s 34ms/step - loss: 0.0918 - accuracy: 0.9847 - val_loss: 1.1944 - val_accuracy: 0.6736\n",
      "Epoch 11/20\n",
      "157/157 [==============================] - 5s 34ms/step - loss: 0.0691 - accuracy: 0.9898 - val_loss: 1.3666 - val_accuracy: 0.6481\n",
      "Epoch 12/20\n",
      "157/157 [==============================] - 5s 33ms/step - loss: 0.0566 - accuracy: 0.9911 - val_loss: 1.2633 - val_accuracy: 0.6705\n",
      "Epoch 13/20\n",
      "157/157 [==============================] - 5s 33ms/step - loss: 0.0427 - accuracy: 0.9939 - val_loss: 1.3851 - val_accuracy: 0.6590\n",
      "Epoch 14/20\n",
      "157/157 [==============================] - 5s 34ms/step - loss: 0.0367 - accuracy: 0.9949 - val_loss: 1.2659 - val_accuracy: 0.6832\n",
      "Epoch 15/20\n",
      "157/157 [==============================] - 5s 34ms/step - loss: 0.0303 - accuracy: 0.9959 - val_loss: 1.3847 - val_accuracy: 0.6634\n",
      "Epoch 16/20\n",
      "157/157 [==============================] - 5s 34ms/step - loss: 0.0269 - accuracy: 0.9960 - val_loss: 1.5300 - val_accuracy: 0.6407\n",
      "Epoch 17/20\n",
      "157/157 [==============================] - 5s 34ms/step - loss: 0.0219 - accuracy: 0.9968 - val_loss: 1.3079 - val_accuracy: 0.6751\n",
      "Epoch 18/20\n",
      "157/157 [==============================] - 5s 33ms/step - loss: 0.0209 - accuracy: 0.9969 - val_loss: 1.8549 - val_accuracy: 0.5990\n",
      "Epoch 19/20\n",
      "157/157 [==============================] - 5s 33ms/step - loss: 0.0185 - accuracy: 0.9973 - val_loss: 1.8552 - val_accuracy: 0.6044\n",
      "Epoch 20/20\n",
      "157/157 [==============================] - 5s 33ms/step - loss: 0.0183 - accuracy: 0.9970 - val_loss: 1.8215 - val_accuracy: 0.6155\n"
     ]
    }
   ],
   "source": [
    "# Train the model and store model parameters/loss values\n",
    "history=model1.fit(x_tr,y_tr,batch_size=256,epochs=20,validation_data=(x_val,y_val))"
   ]
  },
  {
   "cell_type": "markdown",
   "metadata": {
    "id": "G3_UQ9TdyQkT"
   },
   "source": [
    "### Plotting Training and validation loss curve for structure 1"
   ]
  },
  {
   "cell_type": "code",
   "execution_count": 14,
   "metadata": {
    "colab": {
     "base_uri": "https://localhost:8080/",
     "height": 279
    },
    "id": "XaC_ya-ryehc",
    "outputId": "57c060c1-01e5-42ee-a5b5-3c82c74453a5"
   },
   "outputs": [
    {
     "data": {
      "image/png": "[encoded data removed]",
      "text/plain": [
       "<Figure size 432x288 with 1 Axes>"
      ]
     },
     "metadata": {
      "needs_background": "light"
     },
     "output_type": "display_data"
    }
   ],
   "source": [
    "epochs=range(20)\n",
    "train_loss= history.history['loss']\n",
    "valid_loss=history.history['val_loss']\n",
    "plt.plot(epochs, train_loss,'bo', label='Training loss')\n",
    "plt.plot(epochs, valid_loss,'r', label='Validation loss')\n",
    "plt.xlabel('Epochs')\n",
    "plt.ylabel('Loss')\n",
    "plt.legend()\n",
    "plt.show()"
   ]
  },
  {
   "cell_type": "markdown",
   "metadata": {
    "id": "ya5ErjcQ4AER"
   },
   "source": [
    "## New model with higher learning rate.\n",
    "\n",
    "## In the paper it is claimed that Batch normalization allows for higher learning rate so learning rate of 0.1 is being used here"
   ]
  },
  {
   "cell_type": "code",
   "execution_count": 15,
   "metadata": {
    "id": "ACWdGdoh39ip"
   },
   "outputs": [],
   "source": [
    "# Build the model\n",
    "model4=models.Sequential()\n",
    "model4.add(layers.Conv2D(32,(3,3),input_shape=x_tr.shape[1:]))\n",
    "model4.add(BatchNormalization())\n",
    "model4.add(Activation('relu'))\n",
    "model4.add(layers.MaxPooling2D((2,2)))\n",
    "model4.add(layers.Conv2D(64,(4,4)))\n",
    "model4.add(BatchNormalization())\n",
    "model4.add(Activation('relu'))\n",
    "model4.add(layers.MaxPooling2D((2,2)))\n",
    "model4.add(layers.Flatten())\n",
    "model4.add(layers.Dense(256))\n",
    "model4.add(BatchNormalization())\n",
    "model4.add(Activation('relu'))\n",
    "model4.add(layers.Dense(10))\n",
    "model4.add(BatchNormalization())\n",
    "model4.add(Activation('softmax'))"
   ]
  },
  {
   "cell_type": "code",
   "execution_count": 18,
   "metadata": {
    "id": "fKPcOv304cr4"
   },
   "outputs": [],
   "source": [
    "# Define model optimizer and loss function\n",
    "model4.compile(optimizers.RMSprop(learning_rate=0.1, momentum=0.5),loss='categorical_crossentropy',metrics=['accuracy'])"
   ]
  },
  {
   "cell_type": "code",
   "execution_count": 19,
   "metadata": {
    "colab": {
     "base_uri": "https://localhost:8080/"
    },
    "id": "DXIYR1JJ4gjS",
    "outputId": "c1b5ad8f-b802-4701-df44-89239e09e7c9"
   },
   "outputs": [
    {
     "name": "stdout",
     "output_type": "stream",
     "text": [
      "Epoch 1/20\n",
      "  3/157 [..............................] - ETA: 5s - loss: 2.3126 - accuracy: 0.2917"
     ]
    },
    {
     "name": "stderr",
     "output_type": "stream",
     "text": [
      "/usr/local/lib/python3.7/dist-packages/tensorflow/python/data/ops/structured_function.py:265: UserWarning: Even though the `tf.config.experimental_run_functions_eagerly` option is set, this option does not apply to tf.data functions. To force eager execution of tf.data functions, please use `tf.data.experimental.enable_debug_mode()`.\n",
      "  \"Even though the `tf.config.experimental_run_functions_eagerly` \"\n"
     ]
    },
    {
     "name": "stdout",
     "output_type": "stream",
     "text": [
      "157/157 [==============================] - 5s 34ms/step - loss: 1.4627 - accuracy: 0.4762 - val_loss: 3.0485 - val_accuracy: 0.4274\n",
      "Epoch 2/20\n",
      "157/157 [==============================] - 5s 34ms/step - loss: 1.0385 - accuracy: 0.6325 - val_loss: 2.1972 - val_accuracy: 0.4527\n",
      "Epoch 3/20\n",
      "157/157 [==============================] - 5s 34ms/step - loss: 0.8719 - accuracy: 0.6902 - val_loss: 1.9081 - val_accuracy: 0.5272\n",
      "Epoch 4/20\n",
      "157/157 [==============================] - 5s 33ms/step - loss: 0.7583 - accuracy: 0.7320 - val_loss: 1.9418 - val_accuracy: 0.5023\n",
      "Epoch 5/20\n",
      "157/157 [==============================] - 5s 33ms/step - loss: 0.6565 - accuracy: 0.7690 - val_loss: 4.7327 - val_accuracy: 0.3116\n",
      "Epoch 6/20\n",
      "157/157 [==============================] - 5s 34ms/step - loss: 0.5722 - accuracy: 0.7984 - val_loss: 1.8472 - val_accuracy: 0.5713\n",
      "Epoch 7/20\n",
      "157/157 [==============================] - 5s 34ms/step - loss: 0.4923 - accuracy: 0.8256 - val_loss: 1.9889 - val_accuracy: 0.5810\n",
      "Epoch 8/20\n",
      "157/157 [==============================] - 5s 34ms/step - loss: 0.4216 - accuracy: 0.8486 - val_loss: 1.6552 - val_accuracy: 0.6189\n",
      "Epoch 9/20\n",
      "157/157 [==============================] - 5s 34ms/step - loss: 0.3622 - accuracy: 0.8694 - val_loss: 1.7903 - val_accuracy: 0.5903\n",
      "Epoch 10/20\n",
      "157/157 [==============================] - 5s 34ms/step - loss: 0.3103 - accuracy: 0.8905 - val_loss: 2.9021 - val_accuracy: 0.5302\n",
      "Epoch 11/20\n",
      "157/157 [==============================] - 5s 34ms/step - loss: 0.2687 - accuracy: 0.9030 - val_loss: 1.6740 - val_accuracy: 0.6432\n",
      "Epoch 12/20\n",
      "157/157 [==============================] - 5s 34ms/step - loss: 0.2253 - accuracy: 0.9204 - val_loss: 1.9055 - val_accuracy: 0.6280\n",
      "Epoch 13/20\n",
      "157/157 [==============================] - 5s 34ms/step - loss: 0.1969 - accuracy: 0.9289 - val_loss: 2.9878 - val_accuracy: 0.5777\n",
      "Epoch 14/20\n",
      "157/157 [==============================] - 5s 34ms/step - loss: 0.1746 - accuracy: 0.9381 - val_loss: 1.9412 - val_accuracy: 0.6592\n",
      "Epoch 15/20\n",
      "157/157 [==============================] - 5s 33ms/step - loss: 0.1650 - accuracy: 0.9412 - val_loss: 2.0594 - val_accuracy: 0.6581\n",
      "Epoch 16/20\n",
      "157/157 [==============================] - 5s 33ms/step - loss: 0.1425 - accuracy: 0.9495 - val_loss: 2.8085 - val_accuracy: 0.6050\n",
      "Epoch 17/20\n",
      "157/157 [==============================] - 5s 33ms/step - loss: 0.1285 - accuracy: 0.9545 - val_loss: 2.6727 - val_accuracy: 0.6142\n",
      "Epoch 18/20\n",
      "157/157 [==============================] - 5s 34ms/step - loss: 0.1103 - accuracy: 0.9611 - val_loss: 2.0386 - val_accuracy: 0.6805\n",
      "Epoch 19/20\n",
      "157/157 [==============================] - 5s 34ms/step - loss: 0.1018 - accuracy: 0.9648 - val_loss: 2.5902 - val_accuracy: 0.6125\n",
      "Epoch 20/20\n",
      "157/157 [==============================] - 5s 33ms/step - loss: 0.1018 - accuracy: 0.9629 - val_loss: 2.5025 - val_accuracy: 0.6480\n"
     ]
    }
   ],
   "source": [
    "# Train the model and store model parameters/loss values\n",
    "history=model4.fit(x_tr,y_tr,batch_size=256,epochs=20,validation_data=(x_val,y_val))"
   ]
  },
  {
   "cell_type": "code",
   "execution_count": 20,
   "metadata": {
    "colab": {
     "base_uri": "https://localhost:8080/",
     "height": 279
    },
    "id": "Z9m-4Qk56toU",
    "outputId": "14f740b6-0162-4c67-ef27-6932ec9f570b"
   },
   "outputs": [
    {
     "data": {
      "image/png": "[encoded data removed]",
      "text/plain": [
       "<Figure size 432x288 with 1 Axes>"
      ]
     },
     "metadata": {
      "needs_background": "light"
     },
     "output_type": "display_data"
    }
   ],
   "source": [
    "epochs=range(20)\n",
    "train_loss= history.history['loss']\n",
    "valid_loss=history.history['val_loss']\n",
    "plt.plot(epochs, train_loss,'bo', label='Training loss')\n",
    "plt.plot(epochs, valid_loss,'r', label='Validation loss')\n",
    "plt.xlabel('Epochs')\n",
    "plt.ylabel('Loss')\n",
    "plt.legend()\n",
    "plt.show()"
   ]
  },
  {
   "cell_type": "markdown",
   "metadata": {
    "id": "3BFPER5Ts1A0"
   },
   "source": [
    "# Structure with batch normalization and Dropout"
   ]
  },
  {
   "cell_type": "code",
   "execution_count": null,
   "metadata": {
    "id": "XdgUh5Ces8iK"
   },
   "outputs": [],
   "source": [
    "# Build the model\n",
    "model2=models.Sequential()\n",
    "model2.add(layers.Conv2D(32,(3,3),input_shape=x_tr.shape[1:]))\n",
    "model2.add(BatchNormalization())\n",
    "model2.add(Activation('relu'))\n",
    "model2.add(layers.MaxPooling2D((2,2)))\n",
    "model2.add(layers.Conv2D(64,(4,4)))\n",
    "model2.add(BatchNormalization())\n",
    "model2.add(Activation('relu'))\n",
    "model2.add(layers.MaxPooling2D((2,2)))\n",
    "model2.add(layers.Flatten())\n",
    "model2.add(layers.Dropout(0.4))\n",
    "model2.add(layers.Dense(256))\n",
    "model2.add(Activation('relu'))\n",
    "model2.add(layers.Dense(10))\n",
    "model2.add(Activation('softmax'))"
   ]
  },
  {
   "cell_type": "code",
   "execution_count": null,
   "metadata": {
    "colab": {
     "base_uri": "https://localhost:8080/"
    },
    "id": "cawQWhx4uaZA",
    "outputId": "86bd88c7-c1ad-4136-d033-31b27a1fa756"
   },
   "outputs": [
    {
     "name": "stdout",
     "output_type": "stream",
     "text": [
      "Model: \"sequential_5\"\n",
      "_________________________________________________________________\n",
      " Layer (type)                Output Shape              Param #   \n",
      "=================================================================\n",
      " conv2d_10 (Conv2D)          (None, 30, 30, 32)        896       \n",
      "                                                                 \n",
      " batch_normalization_16 (Bat  (None, 30, 30, 32)       128       \n",
      " chNormalization)                                                \n",
      "                                                                 \n",
      " activation_16 (Activation)  (None, 30, 30, 32)        0         \n",
      "                                                                 \n",
      " max_pooling2d_10 (MaxPoolin  (None, 15, 15, 32)       0         \n",
      " g2D)                                                            \n",
      "                                                                 \n",
      " conv2d_11 (Conv2D)          (None, 12, 12, 64)        32832     \n",
      "                                                                 \n",
      " batch_normalization_17 (Bat  (None, 12, 12, 64)       256       \n",
      " chNormalization)                                                \n",
      "                                                                 \n",
      " activation_17 (Activation)  (None, 12, 12, 64)        0         \n",
      "                                                                 \n",
      " max_pooling2d_11 (MaxPoolin  (None, 6, 6, 64)         0         \n",
      " g2D)                                                            \n",
      "                                                                 \n",
      " flatten_5 (Flatten)         (None, 2304)              0         \n",
      "                                                                 \n",
      " dropout_3 (Dropout)         (None, 2304)              0         \n",
      "                                                                 \n",
      " dense_10 (Dense)            (None, 256)               590080    \n",
      "                                                                 \n",
      " activation_18 (Activation)  (None, 256)               0         \n",
      "                                                                 \n",
      " dense_11 (Dense)            (None, 10)                2570      \n",
      "                                                                 \n",
      " activation_19 (Activation)  (None, 10)                0         \n",
      "                                                                 \n",
      "=================================================================\n",
      "Total params: 626,762\n",
      "Trainable params: 626,570\n",
      "Non-trainable params: 192\n",
      "_________________________________________________________________\n"
     ]
    }
   ],
   "source": [
    "model2.summary()"
   ]
  },
  {
   "cell_type": "code",
   "execution_count": null,
   "metadata": {
    "id": "sGRsqiy7udze"
   },
   "outputs": [],
   "source": [
    "model2.compile(optimizers.RMSprop(learning_rate=0.001, momentum=0.5),loss='categorical_crossentropy',metrics=['accuracy'])"
   ]
  },
  {
   "cell_type": "code",
   "execution_count": null,
   "metadata": {
    "colab": {
     "base_uri": "https://localhost:8080/"
    },
    "id": "3BrqeG31uh8f",
    "outputId": "fc8baf04-a4f8-45d0-e600-fda48b539123"
   },
   "outputs": [
    {
     "name": "stdout",
     "output_type": "stream",
     "text": [
      "Epoch 1/40\n",
      "   1/1250 [..............................] - ETA: 1:42 - loss: 0.3759 - accuracy: 0.8438"
     ]
    },
    {
     "name": "stderr",
     "output_type": "stream",
     "text": [
      "/usr/local/lib/python3.7/dist-packages/tensorflow/python/data/ops/structured_function.py:265: UserWarning: Even though the `tf.config.experimental_run_functions_eagerly` option is set, this option does not apply to tf.data functions. To force eager execution of tf.data functions, please use `tf.data.experimental.enable_debug_mode()`.\n",
      "  \"Even though the `tf.config.experimental_run_functions_eagerly` \"\n"
     ]
    },
    {
     "name": "stdout",
     "output_type": "stream",
     "text": [
      "1250/1250 [==============================] - 112s 90ms/step - loss: 0.6786 - accuracy: 0.7671 - val_loss: 1.2168 - val_accuracy: 0.6196\n",
      "Epoch 2/40\n",
      "1250/1250 [==============================] - 113s 91ms/step - loss: 0.6705 - accuracy: 0.7717 - val_loss: 1.0037 - val_accuracy: 0.6634\n",
      "Epoch 3/40\n",
      "1250/1250 [==============================] - 110s 88ms/step - loss: 0.6549 - accuracy: 0.7789 - val_loss: 0.9836 - val_accuracy: 0.6681\n",
      "Epoch 4/40\n",
      "1250/1250 [==============================] - 113s 90ms/step - loss: 0.6286 - accuracy: 0.7884 - val_loss: 1.1768 - val_accuracy: 0.6488\n",
      "Epoch 5/40\n",
      "1250/1250 [==============================] - 115s 92ms/step - loss: 0.6061 - accuracy: 0.7964 - val_loss: 0.8691 - val_accuracy: 0.7295\n",
      "Epoch 6/40\n",
      "1250/1250 [==============================] - 112s 90ms/step - loss: 0.5855 - accuracy: 0.8044 - val_loss: 1.4741 - val_accuracy: 0.5779\n",
      "Epoch 7/40\n",
      "1250/1250 [==============================] - 112s 90ms/step - loss: 0.5634 - accuracy: 0.8126 - val_loss: 1.2577 - val_accuracy: 0.6543\n",
      "Epoch 8/40\n",
      "1250/1250 [==============================] - 113s 91ms/step - loss: 0.5465 - accuracy: 0.8173 - val_loss: 1.4569 - val_accuracy: 0.6093\n",
      "Epoch 9/40\n",
      "1250/1250 [==============================] - 113s 91ms/step - loss: 0.5285 - accuracy: 0.8243 - val_loss: 1.5236 - val_accuracy: 0.6514\n",
      "Epoch 10/40\n",
      "1250/1250 [==============================] - 114s 91ms/step - loss: 0.5014 - accuracy: 0.8339 - val_loss: 1.1376 - val_accuracy: 0.6832\n",
      "Epoch 11/40\n",
      "1250/1250 [==============================] - 113s 90ms/step - loss: 0.4856 - accuracy: 0.8399 - val_loss: 1.0516 - val_accuracy: 0.7258\n",
      "Epoch 12/40\n",
      "1250/1250 [==============================] - 114s 91ms/step - loss: 0.4756 - accuracy: 0.8450 - val_loss: 0.9475 - val_accuracy: 0.7198\n",
      "Epoch 13/40\n",
      "1250/1250 [==============================] - 115s 92ms/step - loss: 0.4546 - accuracy: 0.8512 - val_loss: 1.1606 - val_accuracy: 0.6532\n",
      "Epoch 14/40\n",
      "1250/1250 [==============================] - 112s 90ms/step - loss: 0.4523 - accuracy: 0.8531 - val_loss: 1.0622 - val_accuracy: 0.7108\n",
      "Epoch 15/40\n",
      "1250/1250 [==============================] - 111s 89ms/step - loss: 0.4299 - accuracy: 0.8619 - val_loss: 1.1601 - val_accuracy: 0.7226\n",
      "Epoch 16/40\n",
      "1250/1250 [==============================] - 114s 91ms/step - loss: 0.4206 - accuracy: 0.8632 - val_loss: 1.0063 - val_accuracy: 0.7305\n",
      "Epoch 17/40\n",
      "1250/1250 [==============================] - 115s 92ms/step - loss: 0.4021 - accuracy: 0.8712 - val_loss: 0.9609 - val_accuracy: 0.7357\n",
      "Epoch 18/40\n",
      "1250/1250 [==============================] - 115s 92ms/step - loss: 0.3857 - accuracy: 0.8749 - val_loss: 1.0901 - val_accuracy: 0.6931\n",
      "Epoch 19/40\n",
      "1250/1250 [==============================] - 115s 92ms/step - loss: 0.3784 - accuracy: 0.8799 - val_loss: 1.0509 - val_accuracy: 0.7184\n",
      "Epoch 20/40\n",
      "1250/1250 [==============================] - 112s 89ms/step - loss: 0.3711 - accuracy: 0.8831 - val_loss: 1.0452 - val_accuracy: 0.7190\n",
      "Epoch 21/40\n",
      "1250/1250 [==============================] - 114s 91ms/step - loss: 0.3559 - accuracy: 0.8875 - val_loss: 1.4898 - val_accuracy: 0.7097\n",
      "Epoch 22/40\n",
      "1250/1250 [==============================] - 112s 90ms/step - loss: 0.3509 - accuracy: 0.8879 - val_loss: 0.9466 - val_accuracy: 0.7462\n",
      "Epoch 23/40\n",
      "1250/1250 [==============================] - 113s 91ms/step - loss: 0.3414 - accuracy: 0.8925 - val_loss: 1.2955 - val_accuracy: 0.7137\n",
      "Epoch 24/40\n",
      "1250/1250 [==============================] - 112s 90ms/step - loss: 0.3349 - accuracy: 0.8959 - val_loss: 1.7347 - val_accuracy: 0.6321\n",
      "Epoch 25/40\n",
      "1250/1250 [==============================] - 112s 90ms/step - loss: 0.3333 - accuracy: 0.8977 - val_loss: 1.0891 - val_accuracy: 0.7340\n",
      "Epoch 26/40\n",
      "1250/1250 [==============================] - 116s 93ms/step - loss: 0.3200 - accuracy: 0.8989 - val_loss: 0.9976 - val_accuracy: 0.7288\n",
      "Epoch 27/40\n",
      "1250/1250 [==============================] - 113s 90ms/step - loss: 0.3100 - accuracy: 0.9020 - val_loss: 1.1625 - val_accuracy: 0.6955\n",
      "Epoch 28/40\n",
      "1250/1250 [==============================] - 114s 91ms/step - loss: 0.3060 - accuracy: 0.9060 - val_loss: 1.4129 - val_accuracy: 0.7040\n",
      "Epoch 29/40\n",
      "1250/1250 [==============================] - 111s 89ms/step - loss: 0.3021 - accuracy: 0.9064 - val_loss: 1.0422 - val_accuracy: 0.7535\n",
      "Epoch 30/40\n",
      "1250/1250 [==============================] - 112s 90ms/step - loss: 0.2834 - accuracy: 0.9111 - val_loss: 1.1060 - val_accuracy: 0.7167\n",
      "Epoch 31/40\n",
      "1250/1250 [==============================] - 114s 91ms/step - loss: 0.2782 - accuracy: 0.9129 - val_loss: 1.1894 - val_accuracy: 0.7368\n",
      "Epoch 32/40\n",
      "1250/1250 [==============================] - 113s 90ms/step - loss: 0.2719 - accuracy: 0.9154 - val_loss: 1.4414 - val_accuracy: 0.7285\n",
      "Epoch 33/40\n",
      "1250/1250 [==============================] - 111s 89ms/step - loss: 0.2686 - accuracy: 0.9158 - val_loss: 1.0240 - val_accuracy: 0.7165\n",
      "Epoch 34/40\n",
      "1250/1250 [==============================] - 114s 91ms/step - loss: 0.2708 - accuracy: 0.9164 - val_loss: 1.5142 - val_accuracy: 0.7264\n",
      "Epoch 35/40\n",
      "1250/1250 [==============================] - 111s 88ms/step - loss: 0.2559 - accuracy: 0.9212 - val_loss: 1.0683 - val_accuracy: 0.7293\n",
      "Epoch 36/40\n",
      "1250/1250 [==============================] - 112s 90ms/step - loss: 0.2598 - accuracy: 0.9201 - val_loss: 1.2483 - val_accuracy: 0.7093\n",
      "Epoch 37/40\n",
      "1250/1250 [==============================] - 110s 88ms/step - loss: 0.2476 - accuracy: 0.9224 - val_loss: 1.1910 - val_accuracy: 0.7446\n",
      "Epoch 38/40\n",
      "1250/1250 [==============================] - 113s 90ms/step - loss: 0.2456 - accuracy: 0.9237 - val_loss: 1.3880 - val_accuracy: 0.7296\n",
      "Epoch 39/40\n",
      "1250/1250 [==============================] - 110s 88ms/step - loss: 0.2424 - accuracy: 0.9258 - val_loss: 1.1643 - val_accuracy: 0.7566\n",
      "Epoch 40/40\n",
      "1250/1250 [==============================] - 112s 89ms/step - loss: 0.2324 - accuracy: 0.9282 - val_loss: 1.1730 - val_accuracy: 0.7353\n"
     ]
    }
   ],
   "source": [
    "history2=model2.fit(x_tr,y_tr,batch_size=32,epochs=40,validation_data=(x_val,y_val))"
   ]
  },
  {
   "cell_type": "markdown",
   "metadata": {
    "id": "_qW_tAu3QDnk"
   },
   "source": [
    "### Plotting training and validation loss for structure 2"
   ]
  },
  {
   "cell_type": "code",
   "execution_count": null,
   "metadata": {
    "colab": {
     "base_uri": "https://localhost:8080/",
     "height": 282
    },
    "id": "bv4274zFPx8N",
    "outputId": "c3bc3244-0f9a-4ebc-cfba-f54ca1b0058c"
   },
   "outputs": [
    {
     "data": {
      "image/png": "[encoded data removed]",
      "text/plain": [
       "<Figure size 432x288 with 1 Axes>"
      ]
     },
     "metadata": {
      "needs_background": "light"
     },
     "output_type": "display_data"
    }
   ],
   "source": [
    "epochs=range(40)\n",
    "train_loss= history2.history['loss']\n",
    "valid_loss=history2.history['val_loss']\n",
    "plt.plot(epochs, train_loss,'bo', label='Training loss')\n",
    "plt.plot(epochs, valid_loss,'r', label='Validation loss')\n",
    "plt.xlabel('Epochs')\n",
    "plt.ylabel('Loss')\n",
    "plt.legend()\n",
    "plt.show()"
   ]
  },
  {
   "cell_type": "markdown",
   "metadata": {
    "id": "due0DbJvQKob"
   },
   "source": [
    "##Evaluating Model with Batch normalization and Drop out with test set"
   ]
  },
  {
   "cell_type": "code",
   "execution_count": null,
   "metadata": {
    "colab": {
     "base_uri": "https://localhost:8080/"
    },
    "id": "cYoumpcsQRXE",
    "outputId": "2a98e763-ff0c-4aca-8136-d5d34d164502"
   },
   "outputs": [
    {
     "name": "stdout",
     "output_type": "stream",
     "text": [
      "  5/313 [..............................] - ETA: 9s - loss: 1.0177 - accuracy: 0.7937"
     ]
    },
    {
     "name": "stderr",
     "output_type": "stream",
     "text": [
      "/usr/local/lib/python3.7/dist-packages/tensorflow/python/data/ops/structured_function.py:265: UserWarning: Even though the `tf.config.experimental_run_functions_eagerly` option is set, this option does not apply to tf.data functions. To force eager execution of tf.data functions, please use `tf.data.experimental.enable_debug_mode()`.\n",
      "  \"Even though the `tf.config.experimental_run_functions_eagerly` \"\n"
     ]
    },
    {
     "name": "stdout",
     "output_type": "stream",
     "text": [
      "313/313 [==============================] - 10s 30ms/step - loss: 1.1959 - accuracy: 0.7316\n",
      "training loss=1.195947527885437\n",
      "training accuracy=0.7315999865531921\n"
     ]
    }
   ],
   "source": [
    "# Evaluate your model performance (testing accuracy) on testing data.\n",
    "loss_and_acc=model2.evaluate(x_test,y_test_vec)\n",
    "print(\"training loss=\"+str(loss_and_acc[0]))\n",
    "print(\"training accuracy=\"+str(loss_and_acc[1]))"
   ]
  },
  {
   "cell_type": "markdown",
   "metadata": {
    "id": "RYubSSQcQvyS"
   },
   "source": [
    "## Observation: Test accuracy for model created with dropout and batch normalization is 73.15% which is higher compared to the model created in step 4"
   ]
  }
 ],
 "metadata": {
  "accelerator": "GPU",
  "colab": {
   "collapsed_sections": [],
   "machine_shape": "hm",
   "name": "hkanade_Opt_Proj.ipynb",
   "provenance": []
  },
  "kernelspec": {
   "display_name": "Python 3",
   "language": "python",
   "name": "python3"
  },
  "language_info": {
   "codemirror_mode": {
    "name": "ipython",
    "version": 3
   },
   "file_extension": ".py",
   "mimetype": "text/x-python",
   "name": "python",
   "nbconvert_exporter": "python",
   "pygments_lexer": "ipython3",
   "version": "3.8.5"
  }
 },
 "nbformat": 4,
 "nbformat_minor": 1
}
